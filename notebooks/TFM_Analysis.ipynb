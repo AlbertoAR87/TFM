{
 "cells": [
  {
   "cell_type": "markdown",
   "metadata": {},
   "source": [
    "# Análisis de Datos y Entrenamiento de Modelos para Predicción de Ventas\n",
    "## TFM Business Intelligence"
   ]
  },
  {
   "cell_type": "markdown",
   "metadata": {},
   "source": [
    "### 1. Carga de Librerías\n",
    "Importamos todas las librerías necesarias para el análisis, visualización y modelado."
   ]
  },
  {
   "cell_type": "code",
   "execution_count": null,
   "metadata": {},
   "outputs": [],
   "source": [
    "import pandas as pd\n",
    "import numpy as np\n",
    "import plotly.express as px\n",
    "import plotly.graph_objects as go\n",
    "from sklearn.model_selection import train_test_split\n",
    "from sklearn.linear_model import LinearRegression\n",
    "from sklearn.metrics import mean_squared_error, r2_score\n",
    "import warnings\n\n",
    "warnings.filterwarnings('ignore')"
   ]
  },
  {
   "cell_type": "markdown",
   "metadata": {},
   "source": [
    "### 2. Carga de Datos\n",
    "Cargamos el dataset de ventas desde la carpeta `data`."
   ]
  },
  {
   "cell_type": "code",
   "execution_count": null,
   "metadata": {},
   "outputs": [],
   "source": [
    "sales_df = pd.read_csv('../data/sales_data_example.csv')\n",
    "sales_df.head()"
   ]
  },
  {
   "cell_type": "markdown",
   "metadata": {},
   "source": [
    "### 3. Análisis Exploratorio de Datos (EDA)\n",
    "Visualizamos los datos para entender las distribuciones y relaciones entre variables."
   ]
  },
  {
   "cell_type": "code",
   "execution_count": null,
   "metadata": {},
   "outputs": [],
   "source": [
    "sales_df.info()"
   ]
  },
  {
   "cell_type": "code",
   "execution_count": null,
   "metadata": {},
   "outputs": [],
   "source": [
    "fig = px.histogram(sales_df, x='Sales', title='Distribución de las Ventas')\n",
    "fig.show()"
   ]
  },
    {
   "cell_type": "code",
   "execution_count": null,
   "metadata": {},
   "outputs": [],
   "source": [
    "fig = px.scatter(sales_df, x='Marketing_Spend', y='Sales', title='Ventas vs. Gasto en Marketing', trendline='ols')\n",
    "fig.show()"
   ]
  },
  {
   "cell_type": "markdown",
   "metadata": {},
   "source": [
    "### 4. Preprocesamiento de Datos\n",
    "Preparamos los datos para el modelo, convirtiendo variables categóricas en numéricas."
   ]
  },
    {
   "cell_type": "code",
   "execution_count": null,
   "metadata": {},
   "outputs": [],
   "source": [
    "df_processed = sales_df.copy()\n",
    "df_processed['Date'] = pd.to_datetime(df_processed['Date'])\n",
    "df_processed['Month'] = df_processed['Date'].dt.month\n",
    "df_processed['DayOfWeek'] = df_processed['Date'].dt.dayofweek\n",
    "df_processed = pd.get_dummies(df_processed, columns=['Region', 'Promotion', 'Holiday'], drop_first=True)\n",
    "df_processed = df_processed.drop(['Date', 'Product_ID'], axis=1)\n\n",
    "X = df_processed.drop('Sales', axis=1)\n",
    "y = df_processed['Sales']"
   ]
  },
  {
   "cell_type": "markdown",
   "metadata": {},
   "source": [
    "### 5. Entrenamiento del Modelo de Regresión Lineal"
   ]
  },
  {
   "cell_type": "code",
   "execution_count": null,
   "metadata": {},
   "outputs": [],
   "source": [
    "X_train, X_test, y_train, y_test = train_test_split(X, y, test_size=0.2, random_state=42)\n",
    "model = LinearRegression()\n",
    "model.fit(X_train, y_train)"
   ]
  },
  {
   "cell_type": "markdown",
   "metadata": {},
   "source": [
    "### 6. Evaluación del Modelo"
   ]
  },
  {
   "cell_type": "code",
   "execution_count": null,
   "metadata": {},
   "outputs": [],
   "source": [
    "y_pred = model.predict(X_test)\n",
    "mse = mean_squared_error(y_test, y_pred)\n",
    "r2 = r2_score(y_test, y_pred)\n\n",
    "within_10_percent = np.abs((y_test - y_pred) / y_test) <= 0.10\n",
    "accuracy_percentage = np.mean(within_10_percent) * 100\n\n",
    "print(f'Error Cuadrático Medio (MSE): {mse:.2f}')\n",
    "print(f'Coeficiente de Determinación (R2): {r2:.2f}')\n",
    "print(f'Porcentaje de Acierto (dentro del 10%): {accuracy_percentage:.2f}%')"
   ]
  }
 ],
 "metadata": {
  "kernelspec": {
   "display_name": "Python 3",
   "language": "python",
   "name": "python3"
  },
  "language_info": {
   "name": "python",
   "version": "3.9.7"
  }
 },
 "nbformat": 4,
 "nbformat_minor": 4
}